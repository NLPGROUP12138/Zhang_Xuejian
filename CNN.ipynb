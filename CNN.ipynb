{
 "cells": [
  {
   "cell_type": "code",
   "execution_count": 1,
   "metadata": {},
   "outputs": [],
   "source": [
    "import torch\n",
    "import torch.nn as nn\n",
    "import torchvision\n",
    "import torchvision.transforms as transforms"
   ]
  },
  {
   "cell_type": "code",
   "execution_count": 15,
   "metadata": {},
   "outputs": [],
   "source": [
    "# Hyper parameters\n",
    "num_epochs = 2\n",
    "output_classes = 10\n",
    "batch_size = 20\n",
    "learning_rate = 0.001"
   ]
  },
  {
   "cell_type": "code",
   "execution_count": 16,
   "metadata": {},
   "outputs": [],
   "source": [
    "# MNIST dataset\n",
    "train_dataset = torchvision.datasets.MNIST(root='../../data/',\n",
    "                                           train=True, \n",
    "                                           transform=transforms.ToTensor(),\n",
    "                                           download=True)\n",
    "\n",
    "test_dataset = torchvision.datasets.MNIST(root='../../data/',\n",
    "                                          train=False, \n",
    "                                          transform=transforms.ToTensor())\n",
    "\n",
    "# Data loader\n",
    "train_loader = torch.utils.data.DataLoader(dataset=train_dataset,\n",
    "                                           batch_size=batch_size, \n",
    "                                           shuffle=True)\n",
    "\n",
    "test_loader = torch.utils.data.DataLoader(dataset=test_dataset,\n",
    "                                          batch_size=batch_size, \n",
    "                                          shuffle=False)"
   ]
  },
  {
   "cell_type": "code",
   "execution_count": 17,
   "metadata": {},
   "outputs": [],
   "source": [
    "# Convolutional Neural Network\n",
    "class CNN(nn.Module):\n",
    "    def __init__(self, output_classes):\n",
    "        super(CNN, self).__init__()\n",
    "        self.layer1 = nn.Sequential(\n",
    "            nn.Conv2d(1, 16, kernel_size = 5, stride = 1, padding = 2),\n",
    "            nn.BatchNorm2d(16),\n",
    "            nn.ReLU(),\n",
    "            nn.MaxPool2d(kernel_size = 2, stride = 2)\n",
    "        )\n",
    "        self.layer2 = nn.Sequential(\n",
    "            nn.Conv2d(16, 32, kernel_size = 5, stride = 1, padding = 2),\n",
    "            nn.BatchNorm2d(32),\n",
    "            nn.ReLU(),\n",
    "            nn.MaxPool2d(kernel_size = 2, stride = 2)\n",
    "        )\n",
    "        # 每次做maxpooling就把原图片减小了一倍的大小\n",
    "        self.linear = nn.Linear(7*7*32, output_classes)\n",
    "        \n",
    "    def forward(self, x):\n",
    "        out = self.layer1(x)\n",
    "        out = self.layer2(out)\n",
    "        out = out.reshape(out.size(0), -1) # 将最后的整张图片展开\n",
    "        out = self.linear(out)\n",
    "        return out"
   ]
  },
  {
   "cell_type": "code",
   "execution_count": 18,
   "metadata": {},
   "outputs": [],
   "source": [
    "model = CNN(output_classes)"
   ]
  },
  {
   "cell_type": "code",
   "execution_count": 19,
   "metadata": {},
   "outputs": [],
   "source": [
    "criterion = nn.CrossEntropyLoss()\n",
    "optimizer = torch.optim.Adam(model.parameters(), lr = learning_rate)"
   ]
  },
  {
   "cell_type": "code",
   "execution_count": 20,
   "metadata": {},
   "outputs": [
    {
     "name": "stdout",
     "output_type": "stream",
     "text": [
      "Epoch [1/2], Step [100/3000], Loss: 0.1431\n",
      "Epoch [1/2], Step [200/3000], Loss: 0.0958\n",
      "Epoch [1/2], Step [300/3000], Loss: 0.1180\n",
      "Epoch [1/2], Step [400/3000], Loss: 0.2312\n",
      "Epoch [1/2], Step [500/3000], Loss: 0.3715\n",
      "Epoch [1/2], Step [600/3000], Loss: 0.0059\n",
      "Epoch [1/2], Step [700/3000], Loss: 0.0479\n",
      "Epoch [1/2], Step [800/3000], Loss: 0.1921\n",
      "Epoch [1/2], Step [900/3000], Loss: 0.0834\n",
      "Epoch [1/2], Step [1000/3000], Loss: 0.0994\n",
      "Epoch [1/2], Step [1100/3000], Loss: 0.0295\n",
      "Epoch [1/2], Step [1200/3000], Loss: 0.1361\n",
      "Epoch [1/2], Step [1300/3000], Loss: 0.2394\n",
      "Epoch [1/2], Step [1400/3000], Loss: 0.0417\n",
      "Epoch [1/2], Step [1500/3000], Loss: 0.0164\n",
      "Epoch [1/2], Step [1600/3000], Loss: 0.0054\n",
      "Epoch [1/2], Step [1700/3000], Loss: 0.1106\n",
      "Epoch [1/2], Step [1800/3000], Loss: 0.2651\n",
      "Epoch [1/2], Step [1900/3000], Loss: 0.0245\n",
      "Epoch [1/2], Step [2000/3000], Loss: 0.0101\n",
      "Epoch [1/2], Step [2100/3000], Loss: 0.1104\n",
      "Epoch [1/2], Step [2200/3000], Loss: 0.2344\n",
      "Epoch [1/2], Step [2300/3000], Loss: 0.1187\n",
      "Epoch [1/2], Step [2400/3000], Loss: 0.0012\n",
      "Epoch [1/2], Step [2500/3000], Loss: 0.1140\n",
      "Epoch [1/2], Step [2600/3000], Loss: 0.0009\n",
      "Epoch [1/2], Step [2700/3000], Loss: 0.1709\n",
      "Epoch [1/2], Step [2800/3000], Loss: 0.1608\n",
      "Epoch [1/2], Step [2900/3000], Loss: 0.0812\n",
      "Epoch [1/2], Step [3000/3000], Loss: 0.3073\n",
      "Epoch [2/2], Step [100/3000], Loss: 0.0302\n",
      "Epoch [2/2], Step [200/3000], Loss: 0.1741\n",
      "Epoch [2/2], Step [300/3000], Loss: 0.0050\n",
      "Epoch [2/2], Step [400/3000], Loss: 0.0344\n",
      "Epoch [2/2], Step [500/3000], Loss: 0.0258\n",
      "Epoch [2/2], Step [600/3000], Loss: 0.0064\n",
      "Epoch [2/2], Step [700/3000], Loss: 0.4392\n",
      "Epoch [2/2], Step [800/3000], Loss: 0.0741\n",
      "Epoch [2/2], Step [900/3000], Loss: 0.0351\n",
      "Epoch [2/2], Step [1000/3000], Loss: 0.0025\n",
      "Epoch [2/2], Step [1100/3000], Loss: 0.0036\n",
      "Epoch [2/2], Step [1200/3000], Loss: 0.0336\n",
      "Epoch [2/2], Step [1300/3000], Loss: 0.0057\n",
      "Epoch [2/2], Step [1400/3000], Loss: 0.0018\n",
      "Epoch [2/2], Step [1500/3000], Loss: 0.0071\n",
      "Epoch [2/2], Step [1600/3000], Loss: 0.0132\n",
      "Epoch [2/2], Step [1700/3000], Loss: 0.1606\n",
      "Epoch [2/2], Step [1800/3000], Loss: 0.1553\n",
      "Epoch [2/2], Step [1900/3000], Loss: 0.0172\n",
      "Epoch [2/2], Step [2000/3000], Loss: 0.0004\n",
      "Epoch [2/2], Step [2100/3000], Loss: 0.0728\n",
      "Epoch [2/2], Step [2200/3000], Loss: 0.0007\n",
      "Epoch [2/2], Step [2300/3000], Loss: 0.0173\n",
      "Epoch [2/2], Step [2400/3000], Loss: 0.2135\n",
      "Epoch [2/2], Step [2500/3000], Loss: 0.0050\n",
      "Epoch [2/2], Step [2600/3000], Loss: 0.0048\n",
      "Epoch [2/2], Step [2700/3000], Loss: 0.0352\n",
      "Epoch [2/2], Step [2800/3000], Loss: 0.0009\n",
      "Epoch [2/2], Step [2900/3000], Loss: 0.0048\n",
      "Epoch [2/2], Step [3000/3000], Loss: 0.0568\n"
     ]
    }
   ],
   "source": [
    "# Train the model\n",
    "total_step = len(train_loader)\n",
    "for epoch in range(num_epochs):\n",
    "    for i,(images, labels) in enumerate(train_loader):\n",
    "        outputs = model(images)\n",
    "        loss = criterion(outputs, labels)\n",
    "        \n",
    "        optimizer.zero_grad()\n",
    "        loss.backward()\n",
    "        optimizer.step()\n",
    "        \n",
    "        if (i+1) % 100 == 0:\n",
    "            print ('Epoch [{}/{}], Step [{}/{}], Loss: {:.4f}' \n",
    "                   .format(epoch+1, num_epochs, i+1, total_step, loss.item()))"
   ]
  },
  {
   "cell_type": "code",
   "execution_count": 21,
   "metadata": {},
   "outputs": [
    {
     "name": "stdout",
     "output_type": "stream",
     "text": [
      "Test Accuracy of the model on the 10000 test images: 98.34 %\n"
     ]
    }
   ],
   "source": [
    "# Test the model\n",
    "model.eval()  # eval mode (batchnorm uses moving mean/variance instead of mini-batch mean/variance)\n",
    "with torch.no_grad():\n",
    "    correct = 0\n",
    "    total = 0\n",
    "    for images, labels in test_loader:\n",
    "        images = images\n",
    "        labels = labels\n",
    "        outputs = model(images)\n",
    "        _, predicted = torch.max(outputs.data, 1)\n",
    "        total += labels.size(0)\n",
    "        correct += (predicted == labels).sum().item()\n",
    "\n",
    "    print('Test Accuracy of the model on the 10000 test images: {} %'.format(100 * correct / total))\n"
   ]
  },
  {
   "cell_type": "code",
   "execution_count": null,
   "metadata": {},
   "outputs": [],
   "source": []
  }
 ],
 "metadata": {
  "kernelspec": {
   "display_name": "Python 3",
   "language": "python",
   "name": "python3"
  },
  "language_info": {
   "codemirror_mode": {
    "name": "ipython",
    "version": 3
   },
   "file_extension": ".py",
   "mimetype": "text/x-python",
   "name": "python",
   "nbconvert_exporter": "python",
   "pygments_lexer": "ipython3",
   "version": "3.7.5"
  }
 },
 "nbformat": 4,
 "nbformat_minor": 2
}
