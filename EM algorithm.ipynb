{
 "cells": [
  {
   "cell_type": "code",
   "execution_count": 80,
   "metadata": {},
   "outputs": [],
   "source": [
    "import numpy as np\n",
    "import math"
   ]
  },
  {
   "cell_type": "code",
   "execution_count": 93,
   "metadata": {},
   "outputs": [],
   "source": [
    "# 观测序列的值以及三枚硬币的初始概率\n",
    "observe_Y = np.array([1, 1, 0, 1, 0, 0, 1, 0, 1, 1])\n",
    "P_a_0 = 0.5\n",
    "P_b_0 = 0.5\n",
    "P_c_0 = 0.5\n",
    "P_a = np.array([])\n",
    "P_b = np.array([])\n",
    "P_c = np.array([])\n",
    "E_step_matrix = np.array([])"
   ]
  },
  {
   "cell_type": "code",
   "execution_count": 94,
   "metadata": {},
   "outputs": [],
   "source": [
    "P_a = np.append(P_a, P_a_0)\n",
    "P_b = np.append(P_b, P_b_0)\n",
    "P_c = np.append(P_c, P_c_0)"
   ]
  },
  {
   "cell_type": "code",
   "execution_count": 95,
   "metadata": {},
   "outputs": [
    {
     "data": {
      "text/plain": [
       "array([0.5])"
      ]
     },
     "execution_count": 95,
     "metadata": {},
     "output_type": "execute_result"
    }
   ],
   "source": [
    "P_a"
   ]
  },
  {
   "cell_type": "code",
   "execution_count": 96,
   "metadata": {
    "scrolled": false
   },
   "outputs": [
    {
     "name": "stdout",
     "output_type": "stream",
     "text": [
      "1\n",
      "[0.5 0.5 0.5 0.5 0.5 0.5 0.5 0.5 0.5 0.5]\n",
      "[0.5 0.5]\n",
      "P(A):0.5  P(B):0.6  P(C):0.6\n",
      "2\n",
      "[0.5 0.5 0.5 0.5 0.5 0.5 0.5 0.5 0.5 0.5]\n",
      "[0.5 0.5 0.5]\n",
      "P(A):0.5  P(B):0.6  P(C):0.6\n",
      "3\n",
      "[0.5 0.5 0.5 0.5 0.5 0.5 0.5 0.5 0.5 0.5]\n",
      "[0.5 0.5 0.5 0.5]\n",
      "P(A):0.5  P(B):0.6  P(C):0.6\n",
      "4\n",
      "[0.5 0.5 0.5 0.5 0.5 0.5 0.5 0.5 0.5 0.5]\n",
      "[0.5 0.5 0.5 0.5 0.5]\n",
      "P(A):0.5  P(B):0.6  P(C):0.6\n",
      "5\n",
      "[0.5 0.5 0.5 0.5 0.5 0.5 0.5 0.5 0.5 0.5]\n",
      "[0.5 0.5 0.5 0.5 0.5 0.5]\n",
      "P(A):0.5  P(B):0.6  P(C):0.6\n",
      "6\n",
      "[0.5 0.5 0.5 0.5 0.5 0.5 0.5 0.5 0.5 0.5]\n",
      "[0.5 0.5 0.5 0.5 0.5 0.5 0.5]\n",
      "P(A):0.5  P(B):0.6  P(C):0.6\n",
      "7\n",
      "[0.5 0.5 0.5 0.5 0.5 0.5 0.5 0.5 0.5 0.5]\n",
      "[0.5 0.5 0.5 0.5 0.5 0.5 0.5 0.5]\n",
      "P(A):0.5  P(B):0.6  P(C):0.6\n",
      "8\n",
      "[0.5 0.5 0.5 0.5 0.5 0.5 0.5 0.5 0.5 0.5]\n",
      "[0.5 0.5 0.5 0.5 0.5 0.5 0.5 0.5 0.5]\n",
      "P(A):0.5  P(B):0.6  P(C):0.6\n",
      "9\n",
      "[0.5 0.5 0.5 0.5 0.5 0.5 0.5 0.5 0.5 0.5]\n",
      "[0.5 0.5 0.5 0.5 0.5 0.5 0.5 0.5 0.5 0.5]\n",
      "P(A):0.5  P(B):0.6  P(C):0.6\n",
      "10\n",
      "[0.5 0.5 0.5 0.5 0.5 0.5 0.5 0.5 0.5 0.5]\n",
      "[0.5 0.5 0.5 0.5 0.5 0.5 0.5 0.5 0.5 0.5 0.5]\n",
      "P(A):0.5  P(B):0.6  P(C):0.6\n"
     ]
    }
   ],
   "source": [
    "for i in range(0, 10):\n",
    "    # E-step\n",
    "    E_step_vec = np.array([])\n",
    "    for j in range(0, len(observe_Y)):\n",
    "        sigma = P_a[i] * math.pow(P_b[i], observe_Y[j]) * math.pow(1 - P_b[i], 1 - observe_Y[j]) + (1 - P_a[i]) * math.pow(P_c[i], observe_Y[j]) * math.pow(1 - P_c[i], 1 - observe_Y[j])\n",
    "        p_from_b = P_a[i] * math.pow(P_b[i], observe_Y[j]) * math.pow(1 - P_b[i], 1 - observe_Y[j]) / sigma\n",
    "        E_step_vec = np.append(E_step_vec, p_from_b)\n",
    "    E_step_matrix = np.append(E_step_matrix, E_step_vec)\n",
    "    \n",
    "    # M-step\n",
    "    sum1 = 0\n",
    "    sum2 = 0\n",
    "    for k in E_step_vec:\n",
    "        sum1 += k\n",
    "    for k in 1 - E_step_vec:\n",
    "        sum2 += k\n",
    "    p_a_i_plus = sum1 / len(observe_Y)\n",
    "    p_b_i_plus = np.dot(E_step_vec.T, observe_Y) / sum1\n",
    "    p_c_i_plus = np.dot(1 - E_step_vec.T, observe_Y) / sum2\n",
    "    \n",
    "    P_a = np.append(P_a, p_a_i_plus)\n",
    "    P_b = np.append(P_b, p_b_i_plus)\n",
    "    P_c = np.append(P_c, p_c_i_plus)\n",
    "    \n",
    "    print(i + 1)\n",
    "    print(E_step_vec)\n",
    "    print(P_a)\n",
    "    print('P(A):' + str(p_a_i_plus) + '  P(B):' + str(p_b_i_plus) + '  P(C):' + str(p_c_i_plus))"
   ]
  },
  {
   "cell_type": "code",
   "execution_count": null,
   "metadata": {},
   "outputs": [],
   "source": []
  },
  {
   "cell_type": "code",
   "execution_count": null,
   "metadata": {},
   "outputs": [],
   "source": []
  }
 ],
 "metadata": {
  "kernelspec": {
   "display_name": "Python 3",
   "language": "python",
   "name": "python3"
  },
  "language_info": {
   "codemirror_mode": {
    "name": "ipython",
    "version": 3
   },
   "file_extension": ".py",
   "mimetype": "text/x-python",
   "name": "python",
   "nbconvert_exporter": "python",
   "pygments_lexer": "ipython3",
   "version": "3.7.5"
  }
 },
 "nbformat": 4,
 "nbformat_minor": 2
}
