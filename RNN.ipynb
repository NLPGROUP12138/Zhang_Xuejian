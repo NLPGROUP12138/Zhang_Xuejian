{
 "cells": [
  {
   "cell_type": "code",
   "execution_count": 1,
   "metadata": {},
   "outputs": [],
   "source": [
    "import torch\n",
    "import torch.nn as nn\n",
    "import torchvision\n",
    "import torchvision.transforms as transforms"
   ]
  },
  {
   "cell_type": "code",
   "execution_count": 9,
   "metadata": {},
   "outputs": [],
   "source": [
    "# Hyper parameters\n",
    "sequence_length = 28\n",
    "input_size = 28\n",
    "hidden_size = 150\n",
    "num_layers = 2\n",
    "output_classes = 10\n",
    "num_epochs = 2\n",
    "learning_rate = 0.001\n",
    "batch_size = 20"
   ]
  },
  {
   "cell_type": "code",
   "execution_count": 10,
   "metadata": {},
   "outputs": [],
   "source": [
    "# MNIST dataset\n",
    "train_dataset = torchvision.datasets.MNIST(root='../../data/',\n",
    "                                           train=True, \n",
    "                                           transform=transforms.ToTensor(),\n",
    "                                           download=True)\n",
    "\n",
    "test_dataset = torchvision.datasets.MNIST(root='../../data/',\n",
    "                                          train=False, \n",
    "                                          transform=transforms.ToTensor())\n",
    "\n",
    "# Data loader\n",
    "train_loader = torch.utils.data.DataLoader(dataset=train_dataset,\n",
    "                                           batch_size=batch_size, \n",
    "                                           shuffle=True)\n",
    "\n",
    "test_loader = torch.utils.data.DataLoader(dataset=test_dataset,\n",
    "                                          batch_size=batch_size, \n",
    "                                          shuffle=False)"
   ]
  },
  {
   "cell_type": "code",
   "execution_count": 11,
   "metadata": {},
   "outputs": [],
   "source": [
    "# Recurrent Neural Network\n",
    "class RNN(nn.Module):\n",
    "    def __init__(self, input_size, num_layers, hidden_size, output_classes):\n",
    "        super(RNN, self).__init__()\n",
    "        self.input_size = input_size\n",
    "        self.num_layers = num_layers\n",
    "        self.hidden_size = hidden_size\n",
    "        self.output_classes = output_classes\n",
    "        self.lstm = nn.LSTM(input_size, hidden_size, num_layers, batch_first = True)\n",
    "        self.linear = nn.Linear(hidden_size, output_classes)\n",
    "        \n",
    "    def forward(self, x):\n",
    "        h0 = torch.zeros(self.num_layers, x.size(0), self.hidden_size)\n",
    "        c0 = torch.zeros(self.num_layers, x.size(0), self.hidden_size)\n",
    "        \n",
    "        out, _ = self.lstm(x, (h0, c0))\n",
    "        out = self.linear(out[:, -1, :])\n",
    "        return out"
   ]
  },
  {
   "cell_type": "code",
   "execution_count": 12,
   "metadata": {},
   "outputs": [],
   "source": [
    "model = RNN(input_size, num_layers, hidden_size, output_classes)"
   ]
  },
  {
   "cell_type": "code",
   "execution_count": 13,
   "metadata": {},
   "outputs": [],
   "source": [
    "# Loss and Optimizer\n",
    "criterion = nn.CrossEntropyLoss()\n",
    "optimizer = torch.optim.Adam(model.parameters(), learning_rate)"
   ]
  },
  {
   "cell_type": "code",
   "execution_count": 14,
   "metadata": {},
   "outputs": [
    {
     "name": "stdout",
     "output_type": "stream",
     "text": [
      "Epoch [1/2], Step [100/3000], Loss: 1.2475\n",
      "Epoch [1/2], Step [200/3000], Loss: 0.8809\n",
      "Epoch [1/2], Step [300/3000], Loss: 1.1260\n",
      "Epoch [1/2], Step [400/3000], Loss: 0.4475\n",
      "Epoch [1/2], Step [500/3000], Loss: 0.8161\n",
      "Epoch [1/2], Step [600/3000], Loss: 0.1506\n",
      "Epoch [1/2], Step [700/3000], Loss: 0.2945\n",
      "Epoch [1/2], Step [800/3000], Loss: 0.2164\n",
      "Epoch [1/2], Step [900/3000], Loss: 0.2239\n",
      "Epoch [1/2], Step [1000/3000], Loss: 0.4063\n",
      "Epoch [1/2], Step [1100/3000], Loss: 0.3519\n",
      "Epoch [1/2], Step [1200/3000], Loss: 0.5625\n",
      "Epoch [1/2], Step [1300/3000], Loss: 0.0898\n",
      "Epoch [1/2], Step [1400/3000], Loss: 0.5908\n",
      "Epoch [1/2], Step [1500/3000], Loss: 0.1882\n",
      "Epoch [1/2], Step [1600/3000], Loss: 0.4072\n",
      "Epoch [1/2], Step [1700/3000], Loss: 0.2491\n",
      "Epoch [1/2], Step [1800/3000], Loss: 0.2366\n",
      "Epoch [1/2], Step [1900/3000], Loss: 0.4243\n",
      "Epoch [1/2], Step [2000/3000], Loss: 0.3039\n",
      "Epoch [1/2], Step [2100/3000], Loss: 0.0188\n",
      "Epoch [1/2], Step [2200/3000], Loss: 0.2730\n",
      "Epoch [1/2], Step [2300/3000], Loss: 0.3977\n",
      "Epoch [1/2], Step [2400/3000], Loss: 0.1045\n",
      "Epoch [1/2], Step [2500/3000], Loss: 0.2519\n",
      "Epoch [1/2], Step [2600/3000], Loss: 0.2978\n",
      "Epoch [1/2], Step [2700/3000], Loss: 0.3837\n",
      "Epoch [1/2], Step [2800/3000], Loss: 0.0533\n",
      "Epoch [1/2], Step [2900/3000], Loss: 0.1802\n",
      "Epoch [1/2], Step [3000/3000], Loss: 0.3025\n",
      "Epoch [2/2], Step [100/3000], Loss: 0.2888\n",
      "Epoch [2/2], Step [200/3000], Loss: 0.0484\n",
      "Epoch [2/2], Step [300/3000], Loss: 0.1338\n",
      "Epoch [2/2], Step [400/3000], Loss: 0.0737\n",
      "Epoch [2/2], Step [500/3000], Loss: 0.0061\n",
      "Epoch [2/2], Step [600/3000], Loss: 0.4458\n",
      "Epoch [2/2], Step [700/3000], Loss: 0.2623\n",
      "Epoch [2/2], Step [800/3000], Loss: 0.3862\n",
      "Epoch [2/2], Step [900/3000], Loss: 0.0404\n",
      "Epoch [2/2], Step [1000/3000], Loss: 0.1644\n",
      "Epoch [2/2], Step [1100/3000], Loss: 0.3915\n",
      "Epoch [2/2], Step [1200/3000], Loss: 0.0312\n",
      "Epoch [2/2], Step [1300/3000], Loss: 0.0289\n",
      "Epoch [2/2], Step [1400/3000], Loss: 0.3684\n",
      "Epoch [2/2], Step [1500/3000], Loss: 0.1133\n",
      "Epoch [2/2], Step [1600/3000], Loss: 0.1012\n",
      "Epoch [2/2], Step [1700/3000], Loss: 0.0572\n",
      "Epoch [2/2], Step [1800/3000], Loss: 0.2629\n",
      "Epoch [2/2], Step [1900/3000], Loss: 0.4940\n",
      "Epoch [2/2], Step [2000/3000], Loss: 0.4632\n",
      "Epoch [2/2], Step [2100/3000], Loss: 0.7612\n",
      "Epoch [2/2], Step [2200/3000], Loss: 0.2203\n",
      "Epoch [2/2], Step [2300/3000], Loss: 0.3967\n",
      "Epoch [2/2], Step [2400/3000], Loss: 0.0701\n",
      "Epoch [2/2], Step [2500/3000], Loss: 0.1138\n",
      "Epoch [2/2], Step [2600/3000], Loss: 0.1956\n",
      "Epoch [2/2], Step [2700/3000], Loss: 0.4046\n",
      "Epoch [2/2], Step [2800/3000], Loss: 0.1777\n",
      "Epoch [2/2], Step [2900/3000], Loss: 0.0183\n",
      "Epoch [2/2], Step [3000/3000], Loss: 0.1939\n"
     ]
    }
   ],
   "source": [
    "# Train the model\n",
    "model.train()\n",
    "total_step = len(train_loader)\n",
    "for epoch in range(num_epochs):\n",
    "    for i,(images, labels) in enumerate(train_loader):\n",
    "        images = images.reshape(-1, sequence_length, input_size)\n",
    "\n",
    "        # Forward pass\n",
    "        outputs = model(images)\n",
    "        loss = criterion(outputs, labels)\n",
    "\n",
    "        # Backward and optimize\n",
    "        optimizer.zero_grad()\n",
    "        loss.backward()\n",
    "        optimizer.step()\n",
    "\n",
    "        if (i+1) % 100 == 0:\n",
    "            print ('Epoch [{}/{}], Step [{}/{}], Loss: {:.4f}' \n",
    "                    .format(epoch+1, num_epochs, i+1, total_step, loss.item()))"
   ]
  },
  {
   "cell_type": "code",
   "execution_count": 15,
   "metadata": {},
   "outputs": [
    {
     "name": "stdout",
     "output_type": "stream",
     "text": [
      "Test Accuracy of the model on the 10000 test images: 91.85 %\n"
     ]
    }
   ],
   "source": [
    "with torch.no_grad():\n",
    "    correct = 0\n",
    "    total = 0\n",
    "    for images, labels in test_loader:\n",
    "        images = images.reshape(-1, sequence_length, input_size)\n",
    "        labels = labels\n",
    "        outputs = model(images)\n",
    "        _, predicted = torch.max(outputs.data, 1)\n",
    "        total += labels.size(0)\n",
    "        correct += (predicted == labels).sum().item()\n",
    "\n",
    "    print('Test Accuracy of the model on the 10000 test images: {} %'.format(100 * correct / total)) "
   ]
  },
  {
   "cell_type": "code",
   "execution_count": null,
   "metadata": {},
   "outputs": [],
   "source": []
  },
  {
   "cell_type": "code",
   "execution_count": null,
   "metadata": {},
   "outputs": [],
   "source": []
  },
  {
   "cell_type": "code",
   "execution_count": null,
   "metadata": {},
   "outputs": [],
   "source": []
  }
 ],
 "metadata": {
  "kernelspec": {
   "display_name": "Python 3",
   "language": "python",
   "name": "python3"
  },
  "language_info": {
   "codemirror_mode": {
    "name": "ipython",
    "version": 3
   },
   "file_extension": ".py",
   "mimetype": "text/x-python",
   "name": "python",
   "nbconvert_exporter": "python",
   "pygments_lexer": "ipython3",
   "version": "3.7.5"
  }
 },
 "nbformat": 4,
 "nbformat_minor": 2
}
